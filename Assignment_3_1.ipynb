{
  "nbformat": 4,
  "nbformat_minor": 0,
  "metadata": {
    "colab": {
      "name": "Assignment 3_1.ipynb",
      "provenance": [],
      "collapsed_sections": [],
      "authorship_tag": "ABX9TyNMVPlg1hV0BO5Eg10E1LEh",
      "include_colab_link": true
    },
    "kernelspec": {
      "name": "python3",
      "display_name": "Python 3"
    },
    "language_info": {
      "name": "python"
    }
  },
  "cells": [
    {
      "cell_type": "markdown",
      "metadata": {
        "id": "view-in-github",
        "colab_type": "text"
      },
      "source": [
        "<a href=\"https://colab.research.google.com/github/arashakbari1234/Data-Mining/blob/main/Assignment_3_1.ipynb\" target=\"_parent\"><img src=\"https://colab.research.google.com/assets/colab-badge.svg\" alt=\"Open In Colab\"/></a>"
      ]
    },
    {
      "cell_type": "code",
      "execution_count": null,
      "metadata": {
        "id": "iJhG40wWstRZ"
      },
      "outputs": [],
      "source": [
        "import numpy as np\n",
        "import pandas as pd\n",
        "import matplotlib.pyplot as plt\n",
        "import seaborn as sns\n",
        "\n",
        "from sklearn.datasets import fetch_lfw_people\n",
        "from sklearn.model_selection import train_test_split\n",
        "from sklearn.metrics import confusion_matrix, classification_report, plot_confusion_matrix, accuracy_score\n",
        "from sklearn.decomposition import PCA\n",
        "from sklearn.neural_network import MLPClassifier"
      ]
    },
    {
      "cell_type": "code",
      "source": [
        "lfw_people = fetch_lfw_people(min_faces_per_person=150, resize=0.4)\n",
        "X = lfw_people.data\n",
        "y = lfw_people.target"
      ],
      "metadata": {
        "id": "SNrU4T-4s5r8"
      },
      "execution_count": null,
      "outputs": []
    },
    {
      "cell_type": "code",
      "source": [
        "print(lfw_people.data.shape)\n",
        "print(lfw_people.target.shape)\n",
        "Name = lfw_people.target_names\n",
        "\n",
        "print(Name)"
      ],
      "metadata": {
        "colab": {
          "base_uri": "https://localhost:8080/"
        },
        "id": "_aJpz5XcvgTD",
        "outputId": "4b690e4a-b50e-48ce-fc1d-4f7f63af64fc"
      },
      "execution_count": null,
      "outputs": [
        {
          "output_type": "stream",
          "name": "stdout",
          "text": [
            "(766, 1850)\n",
            "(766,)\n",
            "['Colin Powell' 'George W Bush']\n"
          ]
        }
      ]
    },
    {
      "cell_type": "code",
      "source": [
        "pca_model = PCA(n_components=50)\n",
        "X = pca_model.fit_transform(X)\n",
        "pca_model.components_\n",
        "np.sum(pca_model.explained_variance_ratio_)"
      ],
      "metadata": {
        "colab": {
          "base_uri": "https://localhost:8080/"
        },
        "id": "QoXgZD5D1UBr",
        "outputId": "5cf1fb53-23d4-4f76-9580-c98687827a40"
      },
      "execution_count": null,
      "outputs": [
        {
          "output_type": "execute_result",
          "data": {
            "text/plain": [
              "0.87171644"
            ]
          },
          "metadata": {},
          "execution_count": 4
        }
      ]
    },
    {
      "cell_type": "code",
      "source": [
        "X_train, X_test, y_train, y_test = train_test_split(X, y, test_size=0.25, random_state=101, shuffle=True)"
      ],
      "metadata": {
        "id": "VtZtMPo21rC_"
      },
      "execution_count": null,
      "outputs": []
    },
    {
      "cell_type": "code",
      "source": [
        "print(X_train.shape)\n",
        "print(y_train.shape)\n",
        "print(X_train[0].shape)"
      ],
      "metadata": {
        "colab": {
          "base_uri": "https://localhost:8080/"
        },
        "id": "iyClTDxc1rAT",
        "outputId": "bf910338-4195-4d0b-d586-13d52609c30c"
      },
      "execution_count": null,
      "outputs": [
        {
          "output_type": "stream",
          "name": "stdout",
          "text": [
            "(574, 50)\n",
            "(574,)\n",
            "(50,)\n"
          ]
        }
      ]
    },
    {
      "cell_type": "code",
      "source": [
        "clf = MLPClassifier(hidden_layer_sizes=(1024,), batch_size=256, verbose=False, early_stopping=True)"
      ],
      "metadata": {
        "id": "Dk4OHQpsz8IH"
      },
      "execution_count": null,
      "outputs": []
    },
    {
      "cell_type": "code",
      "source": [
        "clf.fit(X_train, y_train)"
      ],
      "metadata": {
        "colab": {
          "base_uri": "https://localhost:8080/"
        },
        "id": "A7h5KOspz_Ma",
        "outputId": "35252692-6809-4f8f-fe09-2b6c466afbbc"
      },
      "execution_count": null,
      "outputs": [
        {
          "output_type": "execute_result",
          "data": {
            "text/plain": [
              "MLPClassifier(batch_size=256, early_stopping=True, hidden_layer_sizes=(1024,))"
            ]
          },
          "metadata": {},
          "execution_count": 9
        }
      ]
    },
    {
      "cell_type": "code",
      "source": [
        "y_pred = clf.predict(X_test)"
      ],
      "metadata": {
        "id": "YkqRSwQVz_J9"
      },
      "execution_count": null,
      "outputs": []
    },
    {
      "cell_type": "code",
      "source": [
        "# pred = np.argmax(y_pred,axis=1)\n",
        "# ground=np.argmax(testy,axis=1)\n",
        "print(classification_report(y_test,y_pred))"
      ],
      "metadata": {
        "colab": {
          "base_uri": "https://localhost:8080/"
        },
        "id": "N0lA-ZWhz_Hd",
        "outputId": "7826f114-a8ad-4a5e-a247-75ea7f203c92"
      },
      "execution_count": null,
      "outputs": [
        {
          "output_type": "stream",
          "name": "stdout",
          "text": [
            "              precision    recall  f1-score   support\n",
            "\n",
            "           0       0.83      0.80      0.82        61\n",
            "           1       0.91      0.92      0.92       131\n",
            "\n",
            "    accuracy                           0.89       192\n",
            "   macro avg       0.87      0.86      0.87       192\n",
            "weighted avg       0.88      0.89      0.88       192\n",
            "\n"
          ]
        }
      ]
    },
    {
      "cell_type": "code",
      "source": [
        "y_t = clf.predict(X_train)\n",
        "print(classification_report(y_train,y_t))"
      ],
      "metadata": {
        "id": "ZJb_9EJHIfk1",
        "colab": {
          "base_uri": "https://localhost:8080/"
        },
        "outputId": "bcff5971-cce6-4b4f-ddd1-f9072e90280e"
      },
      "execution_count": null,
      "outputs": [
        {
          "output_type": "stream",
          "name": "stdout",
          "text": [
            "              precision    recall  f1-score   support\n",
            "\n",
            "           0       0.93      0.85      0.89       175\n",
            "           1       0.94      0.97      0.95       399\n",
            "\n",
            "    accuracy                           0.94       574\n",
            "   macro avg       0.93      0.91      0.92       574\n",
            "weighted avg       0.94      0.94      0.93       574\n",
            "\n"
          ]
        }
      ]
    },
    {
      "cell_type": "markdown",
      "source": [
        "As we can see, we got training accuracy of 94% and test accuracy of 89% and clearly doesn't overfit.\n",
        "we used PCA and earlyStoping and L2 regularization to avoid overfit in this problem.\n",
        "Using PCA and MLP is a common technique for different problems with high dimentional features and as we can see the result is quite accurate and reliable. Deciding between the recall, precision and f1-score depend on the problem and trying to understand which one is more important to us."
      ],
      "metadata": {
        "id": "xEwewTV-wfo3"
      }
    },
    {
      "cell_type": "code",
      "source": [
        ""
      ],
      "metadata": {
        "id": "Hw0zyZswvrXg"
      },
      "execution_count": null,
      "outputs": []
    }
  ]
}